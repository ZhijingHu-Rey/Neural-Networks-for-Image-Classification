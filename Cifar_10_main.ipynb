{
  "nbformat": 4,
  "nbformat_minor": 0,
  "metadata": {
    "colab": {
      "name": "“cifar_10_main_Zhijing Hu”的副本",
      "provenance": [],
      "collapsed_sections": []
    },
    "kernelspec": {
      "name": "python3",
      "display_name": "Python 3"
    },
    "accelerator": "GPU"
  },
  "cells": [
    {
      "cell_type": "markdown",
      "metadata": {
        "id": "ZgRTplbCjjTE"
      },
      "source": [
        "<center> <h1> Neural Networks for Image Classification </h1> </center>\n",
        "\n",
        "\n",
        "In this homework we will train convolutional neural network image dataset of with ten classes. We will follow the best practices of training and split our dataset into three parts: training set, validation set and test set. We will experiment with the neural network architecture, training parameters like learning rate, learning rate scheduling, batch size, image augmentations, number of epochs of training.\n",
        "\n",
        "<center> <h2> Cifar-10 dataset </h2> </center>\n",
        "\n",
        "For our experiments we will use a subset of [Cifar-10 dataset](https://www.cs.toronto.edu/~kriz/cifar.html) which contains images of ten diverse classes of objects.\n",
        "\n",
        "\n",
        "\n",
        "![alt text](https://storage.googleapis.com/kaggle-competitions/kaggle/3649/media/cifar-10.png \"Logo Title Text 1\")\n",
        "\n",
        "\n",
        "<center> <h2> Kaggle Competition Registration and Submission </h2> </center>\n",
        "\n",
        "1. Follow this link and create account on kaggle and register for the compeition:\n",
        "https://www.kaggle.com/t/73bf90acaef64d5db91d5e74028270c7\n",
        "2. During training of your network a ```csv``` file with your predictions on the test set is being saved. You can find it and download it if you press on the folder icon on the left of your page.\n",
        "3. Once your model is fully trained and you are satisfied with your results on the validation dataset, download this file and upload your submission to kaggle and it will evaluate your results on the test set. Your submission will be ranked amond all classmates.\n"
      ]
    },
    {
      "cell_type": "code",
      "metadata": {
        "colab": {
          "base_uri": "https://localhost:8080/"
        },
        "id": "9oNrfTH3ejtL",
        "outputId": "3519f159-4252-44a3-bdb5-e6022447736e"
      },
      "source": [
        "# Run this to install a dependency\n",
        "!pip install livelossplot==0.3.4"
      ],
      "execution_count": null,
      "outputs": [
        {
          "output_type": "stream",
          "name": "stdout",
          "text": [
            "Collecting livelossplot==0.3.4\n",
            "  Downloading livelossplot-0.3.4-py3-none-any.whl (12 kB)\n",
            "Requirement already satisfied: notebook in /usr/local/lib/python3.7/dist-packages (from livelossplot==0.3.4) (5.3.1)\n",
            "Requirement already satisfied: matplotlib in /usr/local/lib/python3.7/dist-packages (from livelossplot==0.3.4) (3.2.2)\n",
            "Requirement already satisfied: pyparsing!=2.0.4,!=2.1.2,!=2.1.6,>=2.0.1 in /usr/local/lib/python3.7/dist-packages (from matplotlib->livelossplot==0.3.4) (3.0.8)\n",
            "Requirement already satisfied: cycler>=0.10 in /usr/local/lib/python3.7/dist-packages (from matplotlib->livelossplot==0.3.4) (0.11.0)\n",
            "Requirement already satisfied: python-dateutil>=2.1 in /usr/local/lib/python3.7/dist-packages (from matplotlib->livelossplot==0.3.4) (2.8.2)\n",
            "Requirement already satisfied: numpy>=1.11 in /usr/local/lib/python3.7/dist-packages (from matplotlib->livelossplot==0.3.4) (1.21.6)\n",
            "Requirement already satisfied: kiwisolver>=1.0.1 in /usr/local/lib/python3.7/dist-packages (from matplotlib->livelossplot==0.3.4) (1.4.2)\n",
            "Requirement already satisfied: typing-extensions in /usr/local/lib/python3.7/dist-packages (from kiwisolver>=1.0.1->matplotlib->livelossplot==0.3.4) (4.2.0)\n",
            "Requirement already satisfied: six>=1.5 in /usr/local/lib/python3.7/dist-packages (from python-dateutil>=2.1->matplotlib->livelossplot==0.3.4) (1.15.0)\n",
            "Requirement already satisfied: tornado>=4 in /usr/local/lib/python3.7/dist-packages (from notebook->livelossplot==0.3.4) (5.1.1)\n",
            "Requirement already satisfied: jupyter-core>=4.4.0 in /usr/local/lib/python3.7/dist-packages (from notebook->livelossplot==0.3.4) (4.10.0)\n",
            "Requirement already satisfied: jupyter-client>=5.2.0 in /usr/local/lib/python3.7/dist-packages (from notebook->livelossplot==0.3.4) (5.3.5)\n",
            "Requirement already satisfied: ipython-genutils in /usr/local/lib/python3.7/dist-packages (from notebook->livelossplot==0.3.4) (0.2.0)\n",
            "Requirement already satisfied: nbformat in /usr/local/lib/python3.7/dist-packages (from notebook->livelossplot==0.3.4) (5.3.0)\n",
            "Requirement already satisfied: nbconvert in /usr/local/lib/python3.7/dist-packages (from notebook->livelossplot==0.3.4) (5.6.1)\n",
            "Requirement already satisfied: ipykernel in /usr/local/lib/python3.7/dist-packages (from notebook->livelossplot==0.3.4) (4.10.1)\n",
            "Requirement already satisfied: terminado>=0.8.1 in /usr/local/lib/python3.7/dist-packages (from notebook->livelossplot==0.3.4) (0.13.3)\n",
            "Requirement already satisfied: traitlets>=4.2.1 in /usr/local/lib/python3.7/dist-packages (from notebook->livelossplot==0.3.4) (5.1.1)\n",
            "Requirement already satisfied: jinja2 in /usr/local/lib/python3.7/dist-packages (from notebook->livelossplot==0.3.4) (2.11.3)\n",
            "Requirement already satisfied: Send2Trash in /usr/local/lib/python3.7/dist-packages (from notebook->livelossplot==0.3.4) (1.8.0)\n",
            "Requirement already satisfied: pyzmq>=13 in /usr/local/lib/python3.7/dist-packages (from jupyter-client>=5.2.0->notebook->livelossplot==0.3.4) (22.3.0)\n",
            "Requirement already satisfied: ptyprocess in /usr/local/lib/python3.7/dist-packages (from terminado>=0.8.1->notebook->livelossplot==0.3.4) (0.7.0)\n",
            "Requirement already satisfied: ipython>=4.0.0 in /usr/local/lib/python3.7/dist-packages (from ipykernel->notebook->livelossplot==0.3.4) (5.5.0)\n",
            "Requirement already satisfied: pexpect in /usr/local/lib/python3.7/dist-packages (from ipython>=4.0.0->ipykernel->notebook->livelossplot==0.3.4) (4.8.0)\n",
            "Requirement already satisfied: pickleshare in /usr/local/lib/python3.7/dist-packages (from ipython>=4.0.0->ipykernel->notebook->livelossplot==0.3.4) (0.7.5)\n",
            "Requirement already satisfied: setuptools>=18.5 in /usr/local/lib/python3.7/dist-packages (from ipython>=4.0.0->ipykernel->notebook->livelossplot==0.3.4) (57.4.0)\n",
            "Requirement already satisfied: prompt-toolkit<2.0.0,>=1.0.4 in /usr/local/lib/python3.7/dist-packages (from ipython>=4.0.0->ipykernel->notebook->livelossplot==0.3.4) (1.0.18)\n",
            "Requirement already satisfied: pygments in /usr/local/lib/python3.7/dist-packages (from ipython>=4.0.0->ipykernel->notebook->livelossplot==0.3.4) (2.6.1)\n",
            "Requirement already satisfied: simplegeneric>0.8 in /usr/local/lib/python3.7/dist-packages (from ipython>=4.0.0->ipykernel->notebook->livelossplot==0.3.4) (0.8.1)\n",
            "Requirement already satisfied: decorator in /usr/local/lib/python3.7/dist-packages (from ipython>=4.0.0->ipykernel->notebook->livelossplot==0.3.4) (4.4.2)\n",
            "Requirement already satisfied: wcwidth in /usr/local/lib/python3.7/dist-packages (from prompt-toolkit<2.0.0,>=1.0.4->ipython>=4.0.0->ipykernel->notebook->livelossplot==0.3.4) (0.2.5)\n",
            "Requirement already satisfied: MarkupSafe>=0.23 in /usr/local/lib/python3.7/dist-packages (from jinja2->notebook->livelossplot==0.3.4) (2.0.1)\n",
            "Requirement already satisfied: defusedxml in /usr/local/lib/python3.7/dist-packages (from nbconvert->notebook->livelossplot==0.3.4) (0.7.1)\n",
            "Requirement already satisfied: mistune<2,>=0.8.1 in /usr/local/lib/python3.7/dist-packages (from nbconvert->notebook->livelossplot==0.3.4) (0.8.4)\n",
            "Requirement already satisfied: entrypoints>=0.2.2 in /usr/local/lib/python3.7/dist-packages (from nbconvert->notebook->livelossplot==0.3.4) (0.4)\n",
            "Requirement already satisfied: testpath in /usr/local/lib/python3.7/dist-packages (from nbconvert->notebook->livelossplot==0.3.4) (0.6.0)\n",
            "Requirement already satisfied: pandocfilters>=1.4.1 in /usr/local/lib/python3.7/dist-packages (from nbconvert->notebook->livelossplot==0.3.4) (1.5.0)\n",
            "Requirement already satisfied: bleach in /usr/local/lib/python3.7/dist-packages (from nbconvert->notebook->livelossplot==0.3.4) (5.0.0)\n",
            "Requirement already satisfied: fastjsonschema in /usr/local/lib/python3.7/dist-packages (from nbformat->notebook->livelossplot==0.3.4) (2.15.3)\n",
            "Requirement already satisfied: jsonschema>=2.6 in /usr/local/lib/python3.7/dist-packages (from nbformat->notebook->livelossplot==0.3.4) (4.3.3)\n",
            "Requirement already satisfied: importlib-resources>=1.4.0 in /usr/local/lib/python3.7/dist-packages (from jsonschema>=2.6->nbformat->notebook->livelossplot==0.3.4) (5.7.1)\n",
            "Requirement already satisfied: importlib-metadata in /usr/local/lib/python3.7/dist-packages (from jsonschema>=2.6->nbformat->notebook->livelossplot==0.3.4) (4.11.3)\n",
            "Requirement already satisfied: attrs>=17.4.0 in /usr/local/lib/python3.7/dist-packages (from jsonschema>=2.6->nbformat->notebook->livelossplot==0.3.4) (21.4.0)\n",
            "Requirement already satisfied: pyrsistent!=0.17.0,!=0.17.1,!=0.17.2,>=0.14.0 in /usr/local/lib/python3.7/dist-packages (from jsonschema>=2.6->nbformat->notebook->livelossplot==0.3.4) (0.18.1)\n",
            "Requirement already satisfied: zipp>=3.1.0 in /usr/local/lib/python3.7/dist-packages (from importlib-resources>=1.4.0->jsonschema>=2.6->nbformat->notebook->livelossplot==0.3.4) (3.8.0)\n",
            "Requirement already satisfied: webencodings in /usr/local/lib/python3.7/dist-packages (from bleach->nbconvert->notebook->livelossplot==0.3.4) (0.5.1)\n",
            "Installing collected packages: livelossplot\n",
            "Successfully installed livelossplot-0.3.4\n"
          ]
        }
      ]
    },
    {
      "cell_type": "code",
      "source": [
        "!pip install ipython-autotime\n",
        "%load_ext autotime "
      ],
      "metadata": {
        "colab": {
          "base_uri": "https://localhost:8080/"
        },
        "id": "uqeyCJYVz9lO",
        "outputId": "72ac94f9-052c-4b7a-ec4a-cb132c38f40e"
      },
      "execution_count": null,
      "outputs": [
        {
          "output_type": "stream",
          "name": "stdout",
          "text": [
            "Collecting ipython-autotime\n",
            "  Downloading ipython_autotime-0.3.1-py2.py3-none-any.whl (6.8 kB)\n",
            "Requirement already satisfied: ipython in /usr/local/lib/python3.7/dist-packages (from ipython-autotime) (5.5.0)\n",
            "Requirement already satisfied: pickleshare in /usr/local/lib/python3.7/dist-packages (from ipython->ipython-autotime) (0.7.5)\n",
            "Requirement already satisfied: simplegeneric>0.8 in /usr/local/lib/python3.7/dist-packages (from ipython->ipython-autotime) (0.8.1)\n",
            "Requirement already satisfied: pygments in /usr/local/lib/python3.7/dist-packages (from ipython->ipython-autotime) (2.6.1)\n",
            "Requirement already satisfied: prompt-toolkit<2.0.0,>=1.0.4 in /usr/local/lib/python3.7/dist-packages (from ipython->ipython-autotime) (1.0.18)\n",
            "Requirement already satisfied: pexpect in /usr/local/lib/python3.7/dist-packages (from ipython->ipython-autotime) (4.8.0)\n",
            "Requirement already satisfied: traitlets>=4.2 in /usr/local/lib/python3.7/dist-packages (from ipython->ipython-autotime) (5.1.1)\n",
            "Requirement already satisfied: decorator in /usr/local/lib/python3.7/dist-packages (from ipython->ipython-autotime) (4.4.2)\n",
            "Requirement already satisfied: setuptools>=18.5 in /usr/local/lib/python3.7/dist-packages (from ipython->ipython-autotime) (57.4.0)\n",
            "Requirement already satisfied: wcwidth in /usr/local/lib/python3.7/dist-packages (from prompt-toolkit<2.0.0,>=1.0.4->ipython->ipython-autotime) (0.2.5)\n",
            "Requirement already satisfied: six>=1.9.0 in /usr/local/lib/python3.7/dist-packages (from prompt-toolkit<2.0.0,>=1.0.4->ipython->ipython-autotime) (1.15.0)\n",
            "Requirement already satisfied: ptyprocess>=0.5 in /usr/local/lib/python3.7/dist-packages (from pexpect->ipython->ipython-autotime) (0.7.0)\n",
            "Installing collected packages: ipython-autotime\n",
            "Successfully installed ipython-autotime-0.3.1\n",
            "time: 162 µs (started: 2022-05-10 20:03:26 +00:00)\n"
          ]
        }
      ]
    },
    {
      "cell_type": "code",
      "source": [
        "!pip install pytorchtools"
      ],
      "metadata": {
        "colab": {
          "base_uri": "https://localhost:8080/"
        },
        "id": "PpM2BWPLBGag",
        "outputId": "0cf3a280-303a-4808-b025-8ace651f2105"
      },
      "execution_count": null,
      "outputs": [
        {
          "output_type": "stream",
          "name": "stdout",
          "text": [
            "Collecting pytorchtools\n",
            "  Downloading pytorchtools-0.0.2-py2.py3-none-any.whl (3.1 kB)\n",
            "Installing collected packages: pytorchtools\n",
            "Successfully installed pytorchtools-0.0.2\n",
            "time: 2.93 s (started: 2022-05-10 20:03:26 +00:00)\n"
          ]
        }
      ]
    },
    {
      "cell_type": "markdown",
      "source": [
        "# Main Function"
      ],
      "metadata": {
        "id": "eTQ-LEYRFtXS"
      }
    },
    {
      "cell_type": "code",
      "metadata": {
        "colab": {
          "base_uri": "https://localhost:8080/"
        },
        "id": "xPgNjDRWWNBB",
        "outputId": "bfac64ba-6fbf-4818-decd-a2495d1a497e"
      },
      "source": [
        "import torch\n",
        "\n",
        "import torchvision\n",
        "import torchvision.transforms as transforms\n",
        "\n",
        "import torch.nn as nn\n",
        "import torch.optim as optim\n",
        "import numpy as np\n",
        "\n",
        "from torch.utils.data import Subset\n",
        "\n",
        "import torch.nn as nn\n",
        "import torch.nn.functional as F\n",
        "\n",
        "# Our simple convolutional neural network which can allow you to get a\n",
        "# decent accuracy. It consists of a convolutional layers, pooling layer\n",
        "# and fully connected layer (nn.Linear).\n",
        "class CNN(nn.Module):\n",
        "    def __init__(self):\n",
        "        super(CNN, self).__init__()\n",
        "        \n",
        "        self.conv_layer = nn.Sequential(\n",
        "\n",
        "            # Conv Layer block 1\n",
        "            nn.Conv2d(in_channels=3, out_channels=48, kernel_size=3, padding=1),\n",
        "            nn.BatchNorm2d(48),\n",
        "            nn.ReLU(inplace=True),\n",
        "\n",
        "            nn.Conv2d(in_channels=48, out_channels=64, kernel_size=3, padding=1),\n",
        "            nn.BatchNorm2d(64),\n",
        "            nn.ReLU(inplace=True),\n",
        "\n",
        "            nn.Conv2d(in_channels=64, out_channels=64, kernel_size=3, padding=1),\n",
        "            nn.ReLU(inplace=True),\n",
        "            nn.MaxPool2d(kernel_size=2, stride=2),\n",
        "\n",
        "            # Conv Layer block 2\n",
        "            nn.Conv2d(in_channels=64, out_channels=128, kernel_size=3, padding=1),\n",
        "            nn.BatchNorm2d(128),\n",
        "            nn.ReLU(inplace=True),\n",
        "            nn.Conv2d(in_channels=128, out_channels=192, kernel_size=3, padding=1),\n",
        "            nn.ReLU(inplace=True),\n",
        "            nn.BatchNorm2d(192),\n",
        "            nn.Conv2d(in_channels=192, out_channels=192, kernel_size=3, padding=1),\n",
        "            nn.ReLU(inplace=True),\n",
        "            nn.MaxPool2d(kernel_size=2, stride=2),\n",
        "            nn.Dropout2d(p=0.05),\n",
        "\n",
        "            # Conv Layer block 3\n",
        "            nn.Conv2d(in_channels=192, out_channels=320, kernel_size=3, padding=1),\n",
        "            nn.BatchNorm2d(320),\n",
        "            nn.ReLU(inplace=True),\n",
        "            nn.Conv2d(in_channels=320, out_channels=512, kernel_size=3, padding=1),\n",
        "            nn.BatchNorm2d(512),\n",
        "            nn.ReLU(inplace=True),\n",
        "            nn.Conv2d(in_channels=512, out_channels=512, kernel_size=3, padding=1),\n",
        "            nn.MaxPool2d(kernel_size=2, stride=2),\n",
        "\n",
        "        )\n",
        "\n",
        "\n",
        "        self.fc_layer = nn.Sequential(\n",
        "            nn.Dropout(p=0.1),\n",
        "            nn.Linear(8192, 2048),\n",
        "            nn.ReLU(inplace=True),\n",
        "            nn.Linear(2048, 1024),\n",
        "            nn.ReLU(inplace=True),\n",
        "            nn.Linear(1024, 512),\n",
        "            nn.ReLU(inplace=True),\n",
        "            nn.Dropout(p=0.1),\n",
        "            nn.Linear(512, 10)\n",
        "        )\n",
        "\n",
        "\n",
        "\n",
        "    def forward(self, x):\n",
        "        \n",
        "        # conv layers\n",
        "        x = self.conv_layer(x)\n",
        "        \n",
        "        # flatten\n",
        "        x = x.view(x.size(0), -1)\n",
        "        \n",
        "        # fc layer\n",
        "        x = self.fc_layer(x)\n",
        "\n",
        "        return x\n",
        "\n",
        "# Here we define transformation that we will apply to our images\n",
        "# during training. So far we have a random crop, horizontal flip and normalization.\n",
        "# Normalization is not an augmentation but a common practice when working with images,\n",
        "# we are subtracting the average RGB pixel value from each pixel of image and dividing by\n",
        "# the standart deviation of RGB value in the dataset.\n",
        "transform_train = transforms.Compose([\n",
        "    transforms.RandomCrop(32, padding=4),\n",
        "    transforms.RandomHorizontalFlip(),\n",
        "    transforms.ToTensor(),\n",
        "    transforms.Normalize((0.4914, 0.4822, 0.4465), (0.2023, 0.1994, 0.2010)),\n",
        "])\n",
        "\n",
        "\n",
        "transform_test = transforms.Compose([\n",
        "    transforms.ToTensor(),\n",
        "    transforms.Normalize((0.4914, 0.4822, 0.4465), (0.2023, 0.1994, 0.2010)),\n",
        "])\n",
        "\n",
        "trainset = torchvision.datasets.CIFAR10(root='./data', train=True, download=True, transform=transform_train)\n",
        "\n",
        "# Batch size can be set here.\n",
        "trainloader = torch.utils.data.DataLoader(trainset,\n",
        "                                          batch_size=256,\n",
        "                                          shuffle=True,\n",
        "                                          num_workers=4,\n",
        "                                          drop_last=True)\n",
        "\n",
        "test_and_val_set = torchvision.datasets.CIFAR10(root='./data',\n",
        "                                       train=False,\n",
        "                                       download=True,\n",
        "                                       transform=transform_test)\n",
        "\n",
        "# Splitting our dataset into valset and test set.\n",
        "# Valset will be used to monitor our accuracy during training and test set\n",
        "# will be used to submit your final results to kaggle. It is common for machine\n",
        "# learning to split dataset into train/val/test and is considered a best practice.\n",
        "indices = np.arange(len(test_and_val_set))\n",
        "val_set = Subset(test_and_val_set, indices[:5000])\n",
        "test_set = Subset(test_and_val_set, indices[5000:])\n",
        "\n",
        "val_set_loader = torch.utils.data.DataLoader(val_set, batch_size=256, shuffle=False, num_workers=2)\n",
        "test_set_loader = torch.utils.data.DataLoader(test_set, batch_size=256, shuffle=False, num_workers=2)\n",
        "\n",
        "# Here we define our loss function which is cross entropy -- a common loss function when\n",
        "# working with classification problems.\n",
        "criterion = nn.CrossEntropyLoss().cuda()\n",
        "\n",
        "# Here we are defining our network, putting it on GPU and set it up into a training mode.\n",
        "# Training mode is needed when some special layers are used like Batch normalization or dropout,\n",
        "# since they have different behaviour during training and evaluation of our network.\n",
        "net = CNN()\n",
        "net = net.cuda()\n",
        "net.train()\n",
        "\n",
        "# Here we define our optimizer and learning rate. Other optimizers can be used like Adam\n",
        "# and you can experiment with them -- although you will have to carefully choose learning rate\n",
        "# in that case.\n",
        "optimizer = optim.SGD(net.parameters(), lr=0.1, momentum=0.9)\n",
        "\n",
        "# Below we define a validation function which will be run after each epoch to\n",
        "# see if accuracy of our model improved or worsened.\n",
        "def validate():\n",
        "    \n",
        "    net.eval()\n",
        "    \n",
        "    counter = 0\n",
        "    correctly_predicted_counter = 0\n",
        "\n",
        "    with torch.no_grad():\n",
        "\n",
        "        for batch_idx, (inputs, targets) in enumerate(val_set_loader):\n",
        "\n",
        "            inputs, targets = inputs.cuda(), targets.cuda()\n",
        "\n",
        "            outputs = net(inputs)\n",
        "            _, predicted_classes = outputs.max(1)\n",
        "\n",
        "            counter += targets.size(0)\n",
        "            correctly_predicted_counter += (predicted_classes == targets).sum().item()\n",
        "    \n",
        "    accuracy = float(correctly_predicted_counter) / counter\n",
        "    \n",
        "    predicted_classes_list = []\n",
        "\n",
        "    with torch.no_grad():\n",
        "        for batch_idx, (inputs, targets) in enumerate(test_set_loader):\n",
        "            inputs, targets = inputs.cuda(), targets.cuda()\n",
        "            outputs = net(inputs)\n",
        "            _, predicted_classes = outputs.max(1)\n",
        "            predicted_classes_list += list(map(lambda x: str(x), predicted_classes.cpu().detach().numpy().tolist()))\n",
        "\n",
        "    predicted_classes_list = list(enumerate(predicted_classes_list))\n",
        "    \n",
        "    net.train()\n",
        "    \n",
        "    return accuracy, predicted_classes_list"
      ],
      "execution_count": null,
      "outputs": [
        {
          "output_type": "stream",
          "name": "stdout",
          "text": [
            "Files already downloaded and verified\n"
          ]
        },
        {
          "output_type": "stream",
          "name": "stderr",
          "text": [
            "/usr/local/lib/python3.7/dist-packages/torch/utils/data/dataloader.py:490: UserWarning: This DataLoader will create 4 worker processes in total. Our suggested max number of worker in current system is 2, which is smaller than what this DataLoader is going to create. Please be aware that excessive worker creation might get DataLoader running slow or even freeze, lower the worker number to avoid potential slowness/freeze if necessary.\n",
            "  cpuset_checked))\n"
          ]
        },
        {
          "output_type": "stream",
          "name": "stdout",
          "text": [
            "Files already downloaded and verified\n"
          ]
        }
      ]
    },
    {
      "cell_type": "code",
      "metadata": {
        "colab": {
          "base_uri": "https://localhost:8080/"
        },
        "id": "cY1p0-n_W-oQ",
        "outputId": "58b338e2-62b2-4c8e-a96e-a26116fd2d0d"
      },
      "source": [
        "# If you just put a variable containing your model in a cell and run it\n",
        "# it will output your network structure. Useful for debugging.\n",
        "net"
      ],
      "execution_count": null,
      "outputs": [
        {
          "output_type": "execute_result",
          "data": {
            "text/plain": [
              "CNN(\n",
              "  (conv_layer): Sequential(\n",
              "    (0): Conv2d(3, 48, kernel_size=(3, 3), stride=(1, 1), padding=(1, 1))\n",
              "    (1): BatchNorm2d(48, eps=1e-05, momentum=0.1, affine=True, track_running_stats=True)\n",
              "    (2): ReLU(inplace=True)\n",
              "    (3): Conv2d(48, 64, kernel_size=(3, 3), stride=(1, 1), padding=(1, 1))\n",
              "    (4): BatchNorm2d(64, eps=1e-05, momentum=0.1, affine=True, track_running_stats=True)\n",
              "    (5): ReLU(inplace=True)\n",
              "    (6): Conv2d(64, 64, kernel_size=(3, 3), stride=(1, 1), padding=(1, 1))\n",
              "    (7): ReLU(inplace=True)\n",
              "    (8): MaxPool2d(kernel_size=2, stride=2, padding=0, dilation=1, ceil_mode=False)\n",
              "    (9): Conv2d(64, 128, kernel_size=(3, 3), stride=(1, 1), padding=(1, 1))\n",
              "    (10): BatchNorm2d(128, eps=1e-05, momentum=0.1, affine=True, track_running_stats=True)\n",
              "    (11): ReLU(inplace=True)\n",
              "    (12): Conv2d(128, 192, kernel_size=(3, 3), stride=(1, 1), padding=(1, 1))\n",
              "    (13): ReLU(inplace=True)\n",
              "    (14): BatchNorm2d(192, eps=1e-05, momentum=0.1, affine=True, track_running_stats=True)\n",
              "    (15): Conv2d(192, 192, kernel_size=(3, 3), stride=(1, 1), padding=(1, 1))\n",
              "    (16): ReLU(inplace=True)\n",
              "    (17): MaxPool2d(kernel_size=2, stride=2, padding=0, dilation=1, ceil_mode=False)\n",
              "    (18): Dropout2d(p=0.05, inplace=False)\n",
              "    (19): Conv2d(192, 320, kernel_size=(3, 3), stride=(1, 1), padding=(1, 1))\n",
              "    (20): BatchNorm2d(320, eps=1e-05, momentum=0.1, affine=True, track_running_stats=True)\n",
              "    (21): ReLU(inplace=True)\n",
              "    (22): Conv2d(320, 512, kernel_size=(3, 3), stride=(1, 1), padding=(1, 1))\n",
              "    (23): BatchNorm2d(512, eps=1e-05, momentum=0.1, affine=True, track_running_stats=True)\n",
              "    (24): ReLU(inplace=True)\n",
              "    (25): Conv2d(512, 512, kernel_size=(3, 3), stride=(1, 1), padding=(1, 1))\n",
              "    (26): MaxPool2d(kernel_size=2, stride=2, padding=0, dilation=1, ceil_mode=False)\n",
              "  )\n",
              "  (fc_layer): Sequential(\n",
              "    (0): Dropout(p=0.1, inplace=False)\n",
              "    (1): Linear(in_features=8192, out_features=2048, bias=True)\n",
              "    (2): ReLU(inplace=True)\n",
              "    (3): Linear(in_features=2048, out_features=1024, bias=True)\n",
              "    (4): ReLU(inplace=True)\n",
              "    (5): Linear(in_features=1024, out_features=512, bias=True)\n",
              "    (6): ReLU(inplace=True)\n",
              "    (7): Dropout(p=0.1, inplace=False)\n",
              "    (8): Linear(in_features=512, out_features=10, bias=True)\n",
              "  )\n",
              ")"
            ]
          },
          "metadata": {},
          "execution_count": 5
        }
      ]
    },
    {
      "cell_type": "markdown",
      "source": [
        "# Output results"
      ],
      "metadata": {
        "id": "zaPVg-TpFzmM"
      }
    },
    {
      "cell_type": "code",
      "metadata": {
        "colab": {
          "base_uri": "https://localhost:8080/",
          "height": 436
        },
        "id": "GC_R2u4yYLnw",
        "outputId": "488cbeb8-98b7-4b38-ed9e-11eed263dbb0"
      },
      "source": [
        "%matplotlib inline\n",
        "\n",
        "from livelossplot import PlotLosses\n",
        "\n",
        "liveloss = PlotLosses()\n",
        "\n",
        "import time\n",
        "import pandas as pd\n",
        "\n",
        "best_accuracy = 0.0\n",
        "\n",
        "start = time.time()\n",
        "\n",
        "\n",
        "for epoch_number in range(100):\n",
        "    \n",
        "    train_loss_list = []\n",
        "\n",
        "    for batch_idx, (inputs, targets) in enumerate(trainloader):\n",
        "\n",
        "        inputs, targets = inputs.cuda(), targets.cuda()\n",
        "\n",
        "        optimizer.zero_grad()\n",
        "\n",
        "        outputs = net(inputs)\n",
        "        loss = criterion(outputs, targets)\n",
        "        loss.backward()\n",
        "        optimizer.step()\n",
        "\n",
        "        train_loss_list.append(loss.data.item())\n",
        "    \n",
        "    if epoch_number == 20:\n",
        "\n",
        "        for param_group in optimizer.param_groups:\n",
        "\n",
        "            param_group['lr'] = 0.01\n",
        "\n",
        "    if epoch_number == 40: \n",
        "\n",
        "        for param_group in optimizer.param_groups:\n",
        "\n",
        "            param_group['lr'] = 0.001\n",
        "\n",
        "           \n",
        "        \n",
        "    current_accuracy, predicted_classes_list = validate()\n",
        "\n",
        "    liveloss.update({'Average Training Batch Loss': sum(train_loss_list) / len(train_loss_list),\n",
        "                     'Validation Accuracy': current_accuracy})\n",
        "    liveloss.draw()\n",
        "\n",
        "    if current_accuracy > best_accuracy:\n",
        "\n",
        "        print(current_accuracy)\n",
        "        best_accuracy = current_accuracy\n",
        "        torch.save(net.state_dict(), 'resnet_20_cifar10_kaggle.pth')\n",
        "        # Saving best predictions so far\n",
        "        submission_df = pd.DataFrame(predicted_classes_list, columns = ['Id', 'Category'])\n",
        "        submission_df = submission_df['Category']\n",
        "        submission_df = submission_df.replace(0)\n",
        "        submission_df = pd.DataFrame(submission_df)\n",
        "        submission_df['Id'] = submission_df.index\n",
        "        submission_df = submission_df[['Id', 'Category']]\n",
        "        submission_df.to_csv('cifar_10_best_submission.csv', index=False)\n",
        "        \n",
        "end = time.time()\n",
        "print(end - start)\n",
        "\n",
        "# Below you can observe drop in the training loss at some point and increase in the validation accuracy.\n",
        "# This is the place where we decreased the learning rate."
      ],
      "execution_count": null,
      "outputs": [
        {
          "output_type": "display_data",
          "data": {
            "text/plain": [
              "<Figure size 864x576 with 2 Axes>"
            ],
            "image/png": "[encoded data removed]"
          },
          "metadata": {
            "needs_background": "light"
          }
        },
        {
          "output_type": "stream",
          "name": "stdout",
          "text": [
            "Average Training Batch Loss:\n",
            "training   (min:    0.018, max:    1.700, cur:    0.019)\n",
            "\n",
            "Validation Accuracy:\n",
            "training   (min:    0.388, max:    0.910, cur:    0.908)\n",
            "2829.655271053314\n"
          ]
        }
      ]
    },
    {
      "cell_type": "code",
      "metadata": {
        "colab": {
          "base_uri": "https://localhost:8080/"
        },
        "id": "nqhrKAysaW3C",
        "outputId": "50443c15-25e8-475f-9159-52170accce29"
      },
      "source": [
        "best_accuracy"
      ],
      "execution_count": null,
      "outputs": [
        {
          "output_type": "execute_result",
          "data": {
            "text/plain": [
              "0.9104"
            ]
          },
          "metadata": {},
          "execution_count": 7
        }
      ]
    },
    {
      "cell_type": "markdown",
      "metadata": {
        "id": "Ycf-8Z5isgY_"
      },
      "source": [
        "#### Kaggle Competition\n",
        "\n",
        "To submit your results to Kaggle:\n",
        "\n",
        "1. Create a kaggle account.\n",
        "2. Follow the  [link](https://www.kaggle.com/t/73bf90acaef64d5db91d5e74028270c7) to join the competion.\n",
        "3. After your code completes, press on the \"files\" button and download ```cifar_10_best_submission.csv``` file and upload it to kaggle to evaluate it on the test dataset.\n",
        "\n",
        "\n",
        "#### Additional experiments\n",
        "\n",
        "To improve your model further try to:\n",
        "\n",
        "1. Increase the number of filters.\n",
        "2. Increate the number of layers.\n",
        "3. Choose different architecture, for example a deep residual network:\n",
        "https://arxiv.org/pdf/1512.03385.pdf\n",
        "4. Top three submissions will present their solutions to the class and will potentially get bonus points."
      ]
    },
    {
      "cell_type": "code",
      "metadata": {
        "id": "coh2V5MSZUso"
      },
      "source": [
        ""
      ],
      "execution_count": null,
      "outputs": []
    }
  ]
}